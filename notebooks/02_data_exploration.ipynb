{
 "cells": [
  {
   "cell_type": "markdown",
   "id": "4b558f69",
   "metadata": {},
   "source": [
    "# 1. Configuration"
   ]
  },
  {
   "cell_type": "code",
   "execution_count": 13,
   "id": "7a6cf6e6",
   "metadata": {},
   "outputs": [],
   "source": [
    "import pandas as pd"
   ]
  },
  {
   "cell_type": "code",
   "execution_count": 7,
   "id": "ae5e664d",
   "metadata": {},
   "outputs": [
    {
     "name": "stdout",
     "output_type": "stream",
     "text": [
      "✓ BigQueryConnector class and helper functions loaded!\n",
      "✓ Ready to use: bq = BigQueryConnector()\n",
      "✓ Available helper functions: display_query_results, save_query_result, quick_data_profile\n",
      "✓ Utility functions: setup_environment_check, create_sample_queries, format_sql_query\n",
      "\n",
      "🎯 METHOD 2: Filter only custom methods\n",
      "==================================================\n",
      "Custom methods in BigQueryConnector:\n",
      "   1. __init__\n",
      "   2. count_rows\n",
      "   3. explore_table_by_index\n",
      "   4. export_table_to_csv\n",
      "   5. extract_table_data\n",
      "   6. get_column_stats\n",
      "   7. get_table_info\n",
      "   8. get_table_schema\n",
      "   9. get_tables\n",
      "  10. list_datasets\n",
      "  11. query_data\n",
      "  12. quick_query\n",
      "  13. search_tables\n",
      "  14. select_table_by_index\n",
      "  15. select_table_by_number\n",
      "  16. test_connection\n",
      "  17. validate_query\n",
      "✓ Credentials loaded from: C:\\Users\\prada\\Documents\\Latihan\\Project_Github\\connect-to-gcs\\config\\credentials\\asikngulik-analytics-cb7cf888258f.json\n",
      "✓ BigQuery client initialized for project: asikngulik-analytics\n"
     ]
    }
   ],
   "source": [
    "# Cell 1: Setup\n",
    "\"\"\"\n",
    "# Data Exploration with BigQuery\n",
    "\n",
    "This notebook helps you:\n",
    "1. Explore available datasets and tables\n",
    "2. Understand table schemas\n",
    "3. Preview data samples\n",
    "4. Identify data quality issues\n",
    "\"\"\"\n",
    "\n",
    "# Load connector\n",
    "%run utils/bigquery_connector.ipynb\n",
    "\n",
    "# Initialize connector\n",
    "bq = BigQueryConnector()"
   ]
  },
  {
   "cell_type": "markdown",
   "id": "d7726a40",
   "metadata": {},
   "source": [
    "# 2. List Method"
   ]
  },
  {
   "cell_type": "markdown",
   "id": "732b61c9",
   "metadata": {},
   "source": [
    "## 2.1 `bq.list_datasets()`"
   ]
  },
  {
   "cell_type": "code",
   "execution_count": 19,
   "id": "07fd6d23",
   "metadata": {},
   "outputs": [
    {
     "name": "stdout",
     "output_type": "stream",
     "text": [
      "📁 PROJECT: asikngulik-analytics\n",
      "📂 Available datasets (2):\n",
      "   1. thelook                        (9 tables)\n",
      "   2. visitor_data                   (1 tables)\n",
      "Available datasets: ['thelook', 'visitor_data']\n"
     ]
    }
   ],
   "source": [
    "list_datasets = bq.list_datasets()\n",
    "print(f\"Available datasets: {list_datasets}\")"
   ]
  },
  {
   "cell_type": "markdown",
   "id": "d8adfc71",
   "metadata": {},
   "source": [
    "## 2.2 `bq.test_connection()`"
   ]
  },
  {
   "cell_type": "code",
   "execution_count": 20,
   "id": "de26906e",
   "metadata": {},
   "outputs": [
    {
     "name": "stdout",
     "output_type": "stream",
     "text": [
      "✓ Connection successful!\n",
      "📅 Server time: 2025-06-09 13:16:20.425912\n"
     ]
    },
    {
     "data": {
      "text/plain": [
       "True"
      ]
     },
     "execution_count": 20,
     "metadata": {},
     "output_type": "execute_result"
    }
   ],
   "source": [
    "bq.test_connection()"
   ]
  },
  {
   "cell_type": "markdown",
   "id": "6721368f",
   "metadata": {},
   "source": [
    "## 2.3 `get_tables()`"
   ]
  },
  {
   "cell_type": "code",
   "execution_count": 23,
   "id": "b415c0e5",
   "metadata": {},
   "outputs": [
    {
     "name": "stdout",
     "output_type": "stream",
     "text": [
      "📊 Dataset: thelook\n",
      "📋 Available tables (9):\n",
      "   1. distribution_centers\n",
      "   2. events\n",
      "   3. inventory_items\n",
      "   4. lookerstudio_report_distribution_centers\n",
      "   5. lookerstudio_report_profit\n",
      "   6. order_items\n",
      "   7. orders\n",
      "   8. products\n",
      "   9. users\n"
     ]
    },
    {
     "data": {
      "text/plain": [
       "['distribution_centers',\n",
       " 'events',\n",
       " 'inventory_items',\n",
       " 'lookerstudio_report_distribution_centers',\n",
       " 'lookerstudio_report_profit',\n",
       " 'order_items',\n",
       " 'orders',\n",
       " 'products',\n",
       " 'users']"
      ]
     },
     "execution_count": 23,
     "metadata": {},
     "output_type": "execute_result"
    }
   ],
   "source": [
    "bq.get_tables()"
   ]
  }
 ],
 "metadata": {
  "kernelspec": {
   "display_name": "Python 3",
   "language": "python",
   "name": "python3"
  },
  "language_info": {
   "codemirror_mode": {
    "name": "ipython",
    "version": 3
   },
   "file_extension": ".py",
   "mimetype": "text/x-python",
   "name": "python",
   "nbconvert_exporter": "python",
   "pygments_lexer": "ipython3",
   "version": "3.12.4"
  }
 },
 "nbformat": 4,
 "nbformat_minor": 5
}
