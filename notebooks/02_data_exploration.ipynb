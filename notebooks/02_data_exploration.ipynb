{
 "cells": [
  {
   "cell_type": "code",
   "execution_count": null,
   "id": "ae5e664d",
   "metadata": {},
   "outputs": [],
   "source": [
    "# Cell 1: Setup\n",
    "\"\"\"\n",
    "# Data Exploration with BigQuery\n",
    "\n",
    "This notebook helps you:\n",
    "1. Explore available datasets and tables\n",
    "2. Understand table schemas\n",
    "3. Preview data samples\n",
    "4. Identify data quality issues\n",
    "\"\"\"\n",
    "\n",
    "# Load connector\n",
    "%run utils/bigquery_connector.ipynb\n",
    "\n",
    "# Initialize connector\n",
    "bq = BigQueryConnector()"
   ]
  },
  {
   "cell_type": "code",
   "execution_count": null,
   "id": "24b31ba0",
   "metadata": {},
   "outputs": [],
   "source": [
    "# Cell 2: Explore datasets\n",
    "print(\"🗂️ Exploring available datasets...\")\n",
    "datasets = bq.list_datasets()"
   ]
  },
  {
   "cell_type": "code",
   "execution_count": null,
   "id": "06f4d3f4",
   "metadata": {},
   "outputs": [],
   "source": [
    "# Cell 3: Explore tables in current dataset\n",
    "if bq.dataset_id:\n",
    "    print(f\"📋 Exploring tables in dataset: {bq.dataset_id}\")\n",
    "    tables = bq.get_tables()\n",
    "    \n",
    "    # Create interactive table selector\n",
    "    if tables:\n",
    "        print(\"\\n🎯 Select a table to explore:\")\n",
    "        for i, table in enumerate(tables, 1):\n",
    "            print(f\"  {i}. {table}\")\n"
   ]
  },
  {
   "cell_type": "code",
   "execution_count": null,
   "id": "ff95a05b",
   "metadata": {},
   "outputs": [],
   "source": [
    "bq.get_table_info('distribution_centers')"
   ]
  },
  {
   "cell_type": "code",
   "execution_count": null,
   "id": "a32c6d4c",
   "metadata": {},
   "outputs": [],
   "source": [
    "tables"
   ]
  },
  {
   "cell_type": "code",
   "execution_count": null,
   "id": "5870c0c8",
   "metadata": {},
   "outputs": [],
   "source": [
    "df_event = bq.extract_table_data('events')\n",
    "df_event.head()"
   ]
  },
  {
   "cell_type": "code",
   "execution_count": null,
   "id": "291ea44d",
   "metadata": {},
   "outputs": [],
   "source": [
    "df_event.info()"
   ]
  },
  {
   "cell_type": "code",
   "execution_count": null,
   "id": "789d69f0",
   "metadata": {},
   "outputs": [],
   "source": [
    "df_event.groupby('city')['city'].count().sort_values(ascending=False).head(10)"
   ]
  }
 ],
 "metadata": {
  "kernelspec": {
   "display_name": "Python 3",
   "language": "python",
   "name": "python3"
  },
  "language_info": {
   "codemirror_mode": {
    "name": "ipython",
    "version": 3
   },
   "file_extension": ".py",
   "mimetype": "text/x-python",
   "name": "python",
   "nbconvert_exporter": "python",
   "pygments_lexer": "ipython3",
   "version": "3.12.4"
  }
 },
 "nbformat": 4,
 "nbformat_minor": 5
}
