{
 "cells": [
  {
   "cell_type": "code",
   "execution_count": 13,
   "id": "ae5e664d",
   "metadata": {},
   "outputs": [
    {
     "name": "stdout",
     "output_type": "stream",
     "text": [
      "✓ BigQueryConnector class and helper functions loaded!\n",
      "✓ Ready to use: bq = BigQueryConnector()\n",
      "✓ Available helper functions: display_query_results, save_query_result, quick_data_profile\n",
      "✓ Utility functions: setup_environment_check, create_sample_queries, format_sql_query\n",
      "\n",
      "🎯 METHOD 2: Filter only custom methods\n",
      "==================================================\n",
      "Custom methods in BigQueryConnector:\n",
      "   1. __init__\n",
      "   2. count_rows\n",
      "   3. explore_table_by_index\n",
      "   4. export_table_to_csv\n",
      "   5. extract_table_data\n",
      "   6. get_column_stats\n",
      "   7. get_table_info\n",
      "   8. get_table_schema\n",
      "   9. get_tables\n",
      "  10. list_datasets\n",
      "  11. query_data\n",
      "  12. quick_query\n",
      "  13. search_tables\n",
      "  14. select_table_by_index\n",
      "  15. select_table_by_number\n",
      "  16. test_connection\n",
      "  17. validate_query\n",
      "✓ Credentials loaded from: C:\\Users\\prada\\Documents\\Latihan\\Project_Github\\connect-to-gcs\\config\\credentials\\asikngulik-analytics-cb7cf888258f.json\n",
      "✓ BigQuery client initialized for project: asikngulik-analytics\n"
     ]
    }
   ],
   "source": [
    "# Cell 1: Setup\n",
    "\"\"\"\n",
    "# Data Exploration with BigQuery\n",
    "\n",
    "This notebook helps you:\n",
    "1. Explore available datasets and tables\n",
    "2. Understand table schemas\n",
    "3. Preview data samples\n",
    "4. Identify data quality issues\n",
    "\"\"\"\n",
    "\n",
    "# Load connector\n",
    "%run utils/bigquery_connector.ipynb\n",
    "\n",
    "# Initialize connector\n",
    "bq = BigQueryConnector()"
   ]
  },
  {
   "cell_type": "code",
   "execution_count": null,
   "id": "24b31ba0",
   "metadata": {},
   "outputs": [],
   "source": [
    "# Cell 2: Explore datasets\n",
    "print(\"🗂️ Exploring available datasets...\")\n",
    "datasets = bq.list_datasets()"
   ]
  },
  {
   "cell_type": "code",
   "execution_count": 11,
   "id": "06f4d3f4",
   "metadata": {},
   "outputs": [
    {
     "name": "stdout",
     "output_type": "stream",
     "text": [
      "📋 Exploring tables in dataset: thelook\n",
      "📊 Dataset: thelook\n",
      "📋 Available tables (9):\n",
      "   1. distribution_centers\n",
      "   2. events\n",
      "   3. inventory_items\n",
      "   4. lookerstudio_report_distribution_centers\n",
      "   5. lookerstudio_report_profit\n",
      "   6. order_items\n",
      "   7. orders\n",
      "   8. products\n",
      "   9. users\n",
      "\n",
      "🎯 Select a table to explore:\n",
      "  1. distribution_centers\n",
      "  2. events\n",
      "  3. inventory_items\n",
      "  4. lookerstudio_report_distribution_centers\n",
      "  5. lookerstudio_report_profit\n",
      "  6. order_items\n",
      "  7. orders\n",
      "  8. products\n",
      "  9. users\n"
     ]
    }
   ],
   "source": [
    "# Cell 3: Explore tables in current dataset\n",
    "if bq.dataset_id:\n",
    "    print(f\"📋 Exploring tables in dataset: {bq.dataset_id}\")\n",
    "    tables = bq.get_tables()\n",
    "    \n",
    "    # Create interactive table selector\n",
    "    if tables:\n",
    "        print(\"\\n🎯 Select a table to explore:\")\n",
    "        for i, table in enumerate(tables, 1):\n",
    "            print(f\"  {i}. {table}\")\n"
   ]
  },
  {
   "cell_type": "code",
   "execution_count": 12,
   "id": "ff95a05b",
   "metadata": {},
   "outputs": [
    {
     "name": "stdout",
     "output_type": "stream",
     "text": [
      "\n",
      "============================================================\n",
      "📊 TABLE INFORMATION: distribution_centers\n",
      "============================================================\n",
      "📈 Total Rows: 10\n",
      "💾 Size: 0.00 MB\n",
      "📅 Created: 2025-06-06 15:20:17.384000+00:00\n",
      "🔄 Modified: 2025-06-06 15:20:17.384000+00:00\n",
      "\n",
      "📋 SCHEMA (5 columns):\n",
      "No.  Column Name               Data Type       Mode       Description                   \n",
      "------------------------------------------------------------------------------------------\n",
      "1    id                        INTEGER         NULLABLE                                 \n",
      "2    name                      STRING          NULLABLE                                 \n",
      "3    longitude                 FLOAT           NULLABLE                                 \n",
      "4    latitude                  FLOAT           NULLABLE                                 \n",
      "5    distribution_center_geom  GEOGRAPHY       NULLABLE                                 \n",
      "\n",
      "🔍 SAMPLE DATA (first 5 rows):\n",
      "🔄 Executing query...\n",
      "✓ Query executed successfully\n",
      "📊 Rows returned: 5\n",
      "📋 Columns: 5\n",
      "💾 Memory usage: 0.00 MB\n"
     ]
    },
    {
     "data": {
      "text/html": [
       "<div>\n",
       "<style scoped>\n",
       "    .dataframe tbody tr th:only-of-type {\n",
       "        vertical-align: middle;\n",
       "    }\n",
       "\n",
       "    .dataframe tbody tr th {\n",
       "        vertical-align: top;\n",
       "    }\n",
       "\n",
       "    .dataframe thead th {\n",
       "        text-align: right;\n",
       "    }\n",
       "</style>\n",
       "<table border=\"1\" class=\"dataframe\">\n",
       "  <thead>\n",
       "    <tr style=\"text-align: right;\">\n",
       "      <th></th>\n",
       "      <th>id</th>\n",
       "      <th>name</th>\n",
       "      <th>longitude</th>\n",
       "      <th>latitude</th>\n",
       "      <th>distribution_center_geom</th>\n",
       "    </tr>\n",
       "  </thead>\n",
       "  <tbody>\n",
       "    <tr>\n",
       "      <th>0</th>\n",
       "      <td>1</td>\n",
       "      <td>Memphis TN</td>\n",
       "      <td>-89.9711</td>\n",
       "      <td>35.1174</td>\n",
       "      <td>POINT(-89.9711 35.1174)</td>\n",
       "    </tr>\n",
       "    <tr>\n",
       "      <th>1</th>\n",
       "      <td>5</td>\n",
       "      <td>New Orleans LA</td>\n",
       "      <td>-90.0667</td>\n",
       "      <td>29.9500</td>\n",
       "      <td>POINT(-90.0667 29.95)</td>\n",
       "    </tr>\n",
       "    <tr>\n",
       "      <th>2</th>\n",
       "      <td>6</td>\n",
       "      <td>Port Authority of New York/New Jersey NY/NJ</td>\n",
       "      <td>-73.7834</td>\n",
       "      <td>40.6340</td>\n",
       "      <td>POINT(-73.7834 40.634)</td>\n",
       "    </tr>\n",
       "    <tr>\n",
       "      <th>3</th>\n",
       "      <td>8</td>\n",
       "      <td>Mobile AL</td>\n",
       "      <td>-88.0431</td>\n",
       "      <td>30.6944</td>\n",
       "      <td>POINT(-88.0431 30.6944)</td>\n",
       "    </tr>\n",
       "    <tr>\n",
       "      <th>4</th>\n",
       "      <td>10</td>\n",
       "      <td>Savannah GA</td>\n",
       "      <td>-81.1167</td>\n",
       "      <td>32.0167</td>\n",
       "      <td>POINT(-81.1167 32.0167)</td>\n",
       "    </tr>\n",
       "  </tbody>\n",
       "</table>\n",
       "</div>"
      ],
      "text/plain": [
       "   id                                         name  longitude  latitude  \\\n",
       "0   1                                   Memphis TN   -89.9711   35.1174   \n",
       "1   5                               New Orleans LA   -90.0667   29.9500   \n",
       "2   6  Port Authority of New York/New Jersey NY/NJ   -73.7834   40.6340   \n",
       "3   8                                    Mobile AL   -88.0431   30.6944   \n",
       "4  10                                  Savannah GA   -81.1167   32.0167   \n",
       "\n",
       "  distribution_center_geom  \n",
       "0  POINT(-89.9711 35.1174)  \n",
       "1    POINT(-90.0667 29.95)  \n",
       "2   POINT(-73.7834 40.634)  \n",
       "3  POINT(-88.0431 30.6944)  \n",
       "4  POINT(-81.1167 32.0167)  "
      ]
     },
     "metadata": {},
     "output_type": "display_data"
    },
    {
     "data": {
      "text/plain": [
       "Table(TableReference(DatasetReference('asikngulik-analytics', 'thelook'), 'distribution_centers'))"
      ]
     },
     "execution_count": 12,
     "metadata": {},
     "output_type": "execute_result"
    }
   ],
   "source": [
    "bq.get_table_info('distribution_centers')"
   ]
  },
  {
   "cell_type": "code",
   "execution_count": 14,
   "id": "a32c6d4c",
   "metadata": {},
   "outputs": [
    {
     "data": {
      "text/plain": [
       "['distribution_centers',\n",
       " 'events',\n",
       " 'inventory_items',\n",
       " 'lookerstudio_report_distribution_centers',\n",
       " 'lookerstudio_report_profit',\n",
       " 'order_items',\n",
       " 'orders',\n",
       " 'products',\n",
       " 'users']"
      ]
     },
     "execution_count": 14,
     "metadata": {},
     "output_type": "execute_result"
    }
   ],
   "source": [
    "tables"
   ]
  },
  {
   "cell_type": "code",
   "execution_count": 17,
   "id": "5870c0c8",
   "metadata": {},
   "outputs": [
    {
     "name": "stdout",
     "output_type": "stream",
     "text": [
      "🔄 Extracting data from table: events\n",
      "🔄 Executing query...\n",
      "✓ Query executed successfully\n",
      "📊 Rows returned: 2,434,263\n",
      "📋 Columns: 13\n",
      "💾 Memory usage: 1373.43 MB\n",
      "✅ Successfully extracted 2,434,263 rows from events\n"
     ]
    },
    {
     "data": {
      "text/html": [
       "<div>\n",
       "<style scoped>\n",
       "    .dataframe tbody tr th:only-of-type {\n",
       "        vertical-align: middle;\n",
       "    }\n",
       "\n",
       "    .dataframe tbody tr th {\n",
       "        vertical-align: top;\n",
       "    }\n",
       "\n",
       "    .dataframe thead th {\n",
       "        text-align: right;\n",
       "    }\n",
       "</style>\n",
       "<table border=\"1\" class=\"dataframe\">\n",
       "  <thead>\n",
       "    <tr style=\"text-align: right;\">\n",
       "      <th></th>\n",
       "      <th>id</th>\n",
       "      <th>user_id</th>\n",
       "      <th>sequence_number</th>\n",
       "      <th>session_id</th>\n",
       "      <th>created_at</th>\n",
       "      <th>ip_address</th>\n",
       "      <th>city</th>\n",
       "      <th>state</th>\n",
       "      <th>postal_code</th>\n",
       "      <th>browser</th>\n",
       "      <th>traffic_source</th>\n",
       "      <th>uri</th>\n",
       "      <th>event_type</th>\n",
       "    </tr>\n",
       "  </thead>\n",
       "  <tbody>\n",
       "    <tr>\n",
       "      <th>0</th>\n",
       "      <td>242523</td>\n",
       "      <td>18564</td>\n",
       "      <td>6</td>\n",
       "      <td>24cf771e-aa76-4d04-865c-eabc42cc86cf</td>\n",
       "      <td>2022-03-02 08:55:17+00:00</td>\n",
       "      <td>78.26.63.34</td>\n",
       "      <td>Bogatynia</td>\n",
       "      <td>Dolnośląskie</td>\n",
       "      <td>59</td>\n",
       "      <td>Safari</td>\n",
       "      <td>Adwords</td>\n",
       "      <td>/cart</td>\n",
       "      <td>cart</td>\n",
       "    </tr>\n",
       "    <tr>\n",
       "      <th>1</th>\n",
       "      <td>988394</td>\n",
       "      <td>75592</td>\n",
       "      <td>6</td>\n",
       "      <td>71c6b58f-bcae-4fd4-a25d-2bc291de7e10</td>\n",
       "      <td>2019-11-19 04:59:43+00:00</td>\n",
       "      <td>193.53.213.162</td>\n",
       "      <td>Bogatynia</td>\n",
       "      <td>Dolnośląskie</td>\n",
       "      <td>59</td>\n",
       "      <td>Safari</td>\n",
       "      <td>Email</td>\n",
       "      <td>/cart</td>\n",
       "      <td>cart</td>\n",
       "    </tr>\n",
       "    <tr>\n",
       "      <th>2</th>\n",
       "      <td>1470472</td>\n",
       "      <td>&lt;NA&gt;</td>\n",
       "      <td>3</td>\n",
       "      <td>da64b684-7913-467c-af4a-86008c319663</td>\n",
       "      <td>2021-06-30 05:26:00+00:00</td>\n",
       "      <td>174.248.233.220</td>\n",
       "      <td>Bogatynia</td>\n",
       "      <td>Dolnośląskie</td>\n",
       "      <td>59</td>\n",
       "      <td>Chrome</td>\n",
       "      <td>Email</td>\n",
       "      <td>/cart</td>\n",
       "      <td>cart</td>\n",
       "    </tr>\n",
       "    <tr>\n",
       "      <th>3</th>\n",
       "      <td>852269</td>\n",
       "      <td>65210</td>\n",
       "      <td>6</td>\n",
       "      <td>f11ccafd-e17e-4b32-991a-cceb9ed43f3a</td>\n",
       "      <td>2021-02-09 10:32:10+00:00</td>\n",
       "      <td>116.64.203.47</td>\n",
       "      <td>Bogatynia</td>\n",
       "      <td>Dolnośląskie</td>\n",
       "      <td>59</td>\n",
       "      <td>Firefox</td>\n",
       "      <td>Email</td>\n",
       "      <td>/cart</td>\n",
       "      <td>cart</td>\n",
       "    </tr>\n",
       "    <tr>\n",
       "      <th>4</th>\n",
       "      <td>1520965</td>\n",
       "      <td>&lt;NA&gt;</td>\n",
       "      <td>3</td>\n",
       "      <td>a3ab1265-d29f-428f-84da-92dbd773005b</td>\n",
       "      <td>2020-10-07 07:57:00+00:00</td>\n",
       "      <td>74.46.42.136</td>\n",
       "      <td>Bogatynia</td>\n",
       "      <td>Dolnośląskie</td>\n",
       "      <td>59</td>\n",
       "      <td>Safari</td>\n",
       "      <td>Email</td>\n",
       "      <td>/cart</td>\n",
       "      <td>cart</td>\n",
       "    </tr>\n",
       "  </tbody>\n",
       "</table>\n",
       "</div>"
      ],
      "text/plain": [
       "        id  user_id  sequence_number                            session_id  \\\n",
       "0   242523    18564                6  24cf771e-aa76-4d04-865c-eabc42cc86cf   \n",
       "1   988394    75592                6  71c6b58f-bcae-4fd4-a25d-2bc291de7e10   \n",
       "2  1470472     <NA>                3  da64b684-7913-467c-af4a-86008c319663   \n",
       "3   852269    65210                6  f11ccafd-e17e-4b32-991a-cceb9ed43f3a   \n",
       "4  1520965     <NA>                3  a3ab1265-d29f-428f-84da-92dbd773005b   \n",
       "\n",
       "                 created_at       ip_address       city         state  \\\n",
       "0 2022-03-02 08:55:17+00:00      78.26.63.34  Bogatynia  Dolnośląskie   \n",
       "1 2019-11-19 04:59:43+00:00   193.53.213.162  Bogatynia  Dolnośląskie   \n",
       "2 2021-06-30 05:26:00+00:00  174.248.233.220  Bogatynia  Dolnośląskie   \n",
       "3 2021-02-09 10:32:10+00:00    116.64.203.47  Bogatynia  Dolnośląskie   \n",
       "4 2020-10-07 07:57:00+00:00     74.46.42.136  Bogatynia  Dolnośląskie   \n",
       "\n",
       "  postal_code  browser traffic_source    uri event_type  \n",
       "0          59   Safari        Adwords  /cart       cart  \n",
       "1          59   Safari          Email  /cart       cart  \n",
       "2          59   Chrome          Email  /cart       cart  \n",
       "3          59  Firefox          Email  /cart       cart  \n",
       "4          59   Safari          Email  /cart       cart  "
      ]
     },
     "execution_count": 17,
     "metadata": {},
     "output_type": "execute_result"
    }
   ],
   "source": [
    "df_event = bq.extract_table_data('events')\n",
    "df_event.head()"
   ]
  },
  {
   "cell_type": "code",
   "execution_count": 18,
   "id": "291ea44d",
   "metadata": {},
   "outputs": [
    {
     "name": "stdout",
     "output_type": "stream",
     "text": [
      "<class 'pandas.core.frame.DataFrame'>\n",
      "RangeIndex: 2434263 entries, 0 to 2434262\n",
      "Data columns (total 13 columns):\n",
      " #   Column           Dtype              \n",
      "---  ------           -----              \n",
      " 0   id               Int64              \n",
      " 1   user_id          Int64              \n",
      " 2   sequence_number  Int64              \n",
      " 3   session_id       object             \n",
      " 4   created_at       datetime64[us, UTC]\n",
      " 5   ip_address       object             \n",
      " 6   city             object             \n",
      " 7   state            object             \n",
      " 8   postal_code      object             \n",
      " 9   browser          object             \n",
      " 10  traffic_source   object             \n",
      " 11  uri              object             \n",
      " 12  event_type       object             \n",
      "dtypes: Int64(3), datetime64[us, UTC](1), object(9)\n",
      "memory usage: 248.4+ MB\n"
     ]
    }
   ],
   "source": [
    "df_event.info()"
   ]
  },
  {
   "cell_type": "code",
   "execution_count": 21,
   "id": "789d69f0",
   "metadata": {},
   "outputs": [
    {
     "data": {
      "text/plain": [
       "city\n",
       "Shanghai    61958\n",
       "Beijing     51099\n",
       "Seoul       35050\n",
       "Shenzhen    30641\n",
       "null        23594\n",
       "Dongguan    22029\n",
       "New York    20796\n",
       "Tokyo       20762\n",
       "Chengdu     20207\n",
       "Foshan      19162\n",
       "Name: city, dtype: int64"
      ]
     },
     "execution_count": 21,
     "metadata": {},
     "output_type": "execute_result"
    }
   ],
   "source": [
    "df_event.groupby('city')['city'].count().sort_values(ascending=False).head(10)"
   ]
  }
 ],
 "metadata": {
  "kernelspec": {
   "display_name": "Python 3",
   "language": "python",
   "name": "python3"
  },
  "language_info": {
   "codemirror_mode": {
    "name": "ipython",
    "version": 3
   },
   "file_extension": ".py",
   "mimetype": "text/x-python",
   "name": "python",
   "nbconvert_exporter": "python",
   "pygments_lexer": "ipython3",
   "version": "3.12.4"
  }
 },
 "nbformat": 4,
 "nbformat_minor": 5
}
