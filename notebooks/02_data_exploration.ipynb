{
 "cells": [
  {
   "cell_type": "code",
   "execution_count": 11,
   "id": "ae5e664d",
   "metadata": {},
   "outputs": [
    {
     "name": "stdout",
     "output_type": "stream",
     "text": [
      "✓ BigQueryConnector class and helper functions loaded!\n",
      "✓ Ready to use: bq = BigQueryConnector()\n",
      "✓ Available helper functions: display_query_results, save_query_result, quick_data_profile\n",
      "✓ Utility functions: setup_environment_check, create_sample_queries, format_sql_query\n",
      "✓ Credentials loaded from: C:\\Users\\prada\\Documents\\Latihan\\Project_Github\\connect-to-gcs\\config\\credentials\\asikngulik-analytics-cb7cf888258f.json\n",
      "✓ BigQuery client initialized for project: asikngulik-analytics\n"
     ]
    }
   ],
   "source": [
    "# Cell 1: Setup\n",
    "\"\"\"\n",
    "# Data Exploration with BigQuery\n",
    "\n",
    "This notebook helps you:\n",
    "1. Explore available datasets and tables\n",
    "2. Understand table schemas\n",
    "3. Preview data samples\n",
    "4. Identify data quality issues\n",
    "\"\"\"\n",
    "\n",
    "# Load connector\n",
    "%run utils/bigquery_connector.ipynb\n",
    "\n",
    "# Initialize connector\n",
    "bq = BigQueryConnector()"
   ]
  },
  {
   "cell_type": "code",
   "execution_count": 2,
   "id": "24b31ba0",
   "metadata": {},
   "outputs": [
    {
     "name": "stdout",
     "output_type": "stream",
     "text": [
      "🗂️ Exploring available datasets...\n",
      "📁 PROJECT: asikngulik-analytics\n",
      "📂 Available datasets (2):\n",
      "   1. thelook                        (9 tables)\n",
      "   2. visitor_data                   (1 tables)\n"
     ]
    }
   ],
   "source": [
    "# Cell 2: Explore datasets\n",
    "print(\"🗂️ Exploring available datasets...\")\n",
    "datasets = bq.list_datasets()"
   ]
  },
  {
   "cell_type": "code",
   "execution_count": 6,
   "id": "06f4d3f4",
   "metadata": {},
   "outputs": [
    {
     "name": "stdout",
     "output_type": "stream",
     "text": [
      "📋 Exploring tables in dataset: thelook\n",
      "📊 Dataset: thelook\n",
      "📋 Available tables (9):\n",
      "   1. distribution_centers\n",
      "   2. events\n",
      "   3. inventory_items\n",
      "   4. lookerstudio_report_distribution_centers\n",
      "   5. lookerstudio_report_profit\n",
      "   6. order_items\n",
      "   7. orders\n",
      "   8. products\n",
      "   9. users\n",
      "\n",
      "🎯 Select a table to explore:\n",
      "  1. distribution_centers\n",
      "  2. events\n",
      "  3. inventory_items\n",
      "  4. lookerstudio_report_distribution_centers\n",
      "  5. lookerstudio_report_profit\n",
      "  6. order_items\n",
      "  7. orders\n",
      "  8. products\n",
      "  9. users\n"
     ]
    }
   ],
   "source": [
    "# Cell 3: Explore tables in current dataset\n",
    "if bq.dataset_id:\n",
    "    print(f\"📋 Exploring tables in dataset: {bq.dataset_id}\")\n",
    "    tables = bq.get_tables()\n",
    "    \n",
    "    # Create interactive table selector\n",
    "    if tables:\n",
    "        print(\"\\n🎯 Select a table to explore:\")\n",
    "        for i, table in enumerate(tables, 1):\n",
    "            print(f\"  {i}. {table}\")\n"
   ]
  },
  {
   "cell_type": "code",
   "execution_count": 10,
   "id": "ff95a05b",
   "metadata": {},
   "outputs": [
    {
     "name": "stdout",
     "output_type": "stream",
     "text": [
      "\n",
      "============================================================\n",
      "📊 TABLE INFORMATION: distribution_centers\n",
      "============================================================\n",
      "📈 Total Rows: 10\n",
      "💾 Size: 0.00 MB\n",
      "📅 Created: 2025-06-06 15:20:17.384000+00:00\n",
      "🔄 Modified: 2025-06-06 15:20:17.384000+00:00\n",
      "\n",
      "📋 SCHEMA (5 columns):\n",
      "No.  Column Name               Data Type       Mode       Description                   \n",
      "------------------------------------------------------------------------------------------\n",
      "1    id                        INTEGER         NULLABLE                                 \n",
      "2    name                      STRING          NULLABLE                                 \n",
      "3    longitude                 FLOAT           NULLABLE                                 \n",
      "4    latitude                  FLOAT           NULLABLE                                 \n",
      "5    distribution_center_geom  GEOGRAPHY       NULLABLE                                 \n",
      "\n",
      "🔍 SAMPLE DATA (first 5 rows):\n",
      "🔄 Executing query...\n",
      "✓ Query executed successfully\n",
      "📊 Rows returned: 5\n",
      "📋 Columns: 5\n",
      "💾 Memory usage: 0.00 MB\n"
     ]
    },
    {
     "data": {
      "text/html": [
       "<div>\n",
       "<style scoped>\n",
       "    .dataframe tbody tr th:only-of-type {\n",
       "        vertical-align: middle;\n",
       "    }\n",
       "\n",
       "    .dataframe tbody tr th {\n",
       "        vertical-align: top;\n",
       "    }\n",
       "\n",
       "    .dataframe thead th {\n",
       "        text-align: right;\n",
       "    }\n",
       "</style>\n",
       "<table border=\"1\" class=\"dataframe\">\n",
       "  <thead>\n",
       "    <tr style=\"text-align: right;\">\n",
       "      <th></th>\n",
       "      <th>id</th>\n",
       "      <th>name</th>\n",
       "      <th>longitude</th>\n",
       "      <th>latitude</th>\n",
       "      <th>distribution_center_geom</th>\n",
       "    </tr>\n",
       "  </thead>\n",
       "  <tbody>\n",
       "    <tr>\n",
       "      <th>0</th>\n",
       "      <td>1</td>\n",
       "      <td>Memphis TN</td>\n",
       "      <td>-89.9711</td>\n",
       "      <td>35.1174</td>\n",
       "      <td>POINT(-89.9711 35.1174)</td>\n",
       "    </tr>\n",
       "    <tr>\n",
       "      <th>1</th>\n",
       "      <td>5</td>\n",
       "      <td>New Orleans LA</td>\n",
       "      <td>-90.0667</td>\n",
       "      <td>29.9500</td>\n",
       "      <td>POINT(-90.0667 29.95)</td>\n",
       "    </tr>\n",
       "    <tr>\n",
       "      <th>2</th>\n",
       "      <td>6</td>\n",
       "      <td>Port Authority of New York/New Jersey NY/NJ</td>\n",
       "      <td>-73.7834</td>\n",
       "      <td>40.6340</td>\n",
       "      <td>POINT(-73.7834 40.634)</td>\n",
       "    </tr>\n",
       "    <tr>\n",
       "      <th>3</th>\n",
       "      <td>8</td>\n",
       "      <td>Mobile AL</td>\n",
       "      <td>-88.0431</td>\n",
       "      <td>30.6944</td>\n",
       "      <td>POINT(-88.0431 30.6944)</td>\n",
       "    </tr>\n",
       "    <tr>\n",
       "      <th>4</th>\n",
       "      <td>10</td>\n",
       "      <td>Savannah GA</td>\n",
       "      <td>-81.1167</td>\n",
       "      <td>32.0167</td>\n",
       "      <td>POINT(-81.1167 32.0167)</td>\n",
       "    </tr>\n",
       "  </tbody>\n",
       "</table>\n",
       "</div>"
      ],
      "text/plain": [
       "   id                                         name  longitude  latitude  \\\n",
       "0   1                                   Memphis TN   -89.9711   35.1174   \n",
       "1   5                               New Orleans LA   -90.0667   29.9500   \n",
       "2   6  Port Authority of New York/New Jersey NY/NJ   -73.7834   40.6340   \n",
       "3   8                                    Mobile AL   -88.0431   30.6944   \n",
       "4  10                                  Savannah GA   -81.1167   32.0167   \n",
       "\n",
       "  distribution_center_geom  \n",
       "0  POINT(-89.9711 35.1174)  \n",
       "1    POINT(-90.0667 29.95)  \n",
       "2   POINT(-73.7834 40.634)  \n",
       "3  POINT(-88.0431 30.6944)  \n",
       "4  POINT(-81.1167 32.0167)  "
      ]
     },
     "metadata": {},
     "output_type": "display_data"
    },
    {
     "data": {
      "text/plain": [
       "Table(TableReference(DatasetReference('asikngulik-analytics', 'thelook'), 'distribution_centers'))"
      ]
     },
     "execution_count": 10,
     "metadata": {},
     "output_type": "execute_result"
    }
   ],
   "source": [
    "bq.get_table_info('distribution_centers')"
   ]
  }
 ],
 "metadata": {
  "kernelspec": {
   "display_name": "Python 3",
   "language": "python",
   "name": "python3"
  },
  "language_info": {
   "codemirror_mode": {
    "name": "ipython",
    "version": 3
   },
   "file_extension": ".py",
   "mimetype": "text/x-python",
   "name": "python",
   "nbconvert_exporter": "python",
   "pygments_lexer": "ipython3",
   "version": "3.12.4"
  }
 },
 "nbformat": 4,
 "nbformat_minor": 5
}
